{
 "cells": [
  {
   "cell_type": "code",
   "execution_count": 115,
   "metadata": {},
   "outputs": [],
   "source": [
    "import pandas as pd\n",
    "import numpy as np\n",
    "import sklearn as sk\n",
    "from sklearn.ensemble import IsolationForest as lf\n",
    "import warnings\n",
    "warnings.simplefilter(action='ignore', category=FutureWarning)\n",
    "warnings.simplefilter(action='ignore', category=DeprecationWarning)"
   ]
  },
  {
   "cell_type": "code",
   "execution_count": 117,
   "metadata": {},
   "outputs": [
    {
     "data": {
      "text/plain": [
       "Index(['ILMN_1652073', 'ILMN_1652199', 'ILMN_1652230', 'ILMN_1652431',\n",
       "       'ILMN_1652955', 'ILMN_1654118', 'ILMN_1654875', 'ILMN_1655710',\n",
       "       'ILMN_1656292', 'ILMN_1656625',\n",
       "       ...\n",
       "       'ILMN_3292678', 'ILMN_3293676', 'ILMN_3296994', 'ILMN_3298215',\n",
       "       'ILMN_3299187', 'ILMN_3299955', 'ILMN_3300471', 'ILMN_3301324',\n",
       "       'ILMN_3308961', 'anomalies'],\n",
       "      dtype='object', length=322)"
      ]
     },
     "execution_count": 117,
     "metadata": {},
     "output_type": "execute_result"
    }
   ],
   "source": [
    "# your code goes here\n",
    "data = pd.read_csv('C:/Users/ELEANOR/Downloads/CS329e/Project/CS329E-Project/Alz+MCI+Norm/data_subset_var_99_per.csv',header = 0)\n",
    "data.index = list(data.iloc[:,0])\n",
    "data = data.drop('Unnamed: 0',axis=1)\n",
    "data[\"anomalies\"] = 0\n",
    "data[\"anomalies\"]\n",
    "data.shape #rows, columns"
   ]
  },
  {
   "cell_type": "code",
   "execution_count": 123,
   "metadata": {},
   "outputs": [
    {
     "name": "stdout",
     "output_type": "stream",
     "text": [
      "388\n",
      "GSM1539409    272\n",
      "GSM1539410    416\n",
      "GSM1539411    574\n",
      "GSM1539412    436\n",
      "GSM1539413    494\n",
      "             ... \n",
      "GSM1539792    300\n",
      "GSM1539793    502\n",
      "GSM1539794    612\n",
      "GSM1539795    536\n",
      "GSM1539796    628\n",
      "Name: anomalies, Length: 388, dtype: int64\n"
     ]
    },
    {
     "data": {
      "text/plain": [
       "GSM1539409    116\n",
       "GSM1539410    -28\n",
       "GSM1539411   -186\n",
       "GSM1539412    -48\n",
       "GSM1539413   -106\n",
       "             ... \n",
       "GSM1539792     88\n",
       "GSM1539793   -114\n",
       "GSM1539794   -224\n",
       "GSM1539795   -148\n",
       "GSM1539796   -240\n",
       "Name: anomalies, Length: 388, dtype: int64"
      ]
     },
     "execution_count": 123,
     "metadata": {},
     "output_type": "execute_result"
    }
   ],
   "source": [
    "# isolation forest documentation: https://scikit-learn.org/stable/modules/generated/sklearn.ensemble.IsolationForest.html\n",
    "## max_features: int or float, optional (default=1.0)\n",
    "## bootstrap: bool, optional (default=False)\n",
    "#param_grid = {'bootstrap': [True, False], 'max_features': [1] + list(range(5,25,5))}\n",
    "print(len(data))\n",
    "for i in data.columns:\n",
    "    from sklearn.ensemble import IsolationForest as lf\n",
    "    X = data[i] #index column\n",
    "    temp = (X.to_numpy()).reshape(-1, 1) #mitigate error\n",
    "    lf = lf(bootstrap = False) #make lf object\n",
    "    pred = lf.fit_predict(temp, y=(0,1)) #run lf on column\n",
    "    X = pred\n",
    "    data[\"anomalies\"] = data[\"anomalies\"] + pred\n",
    "print(data[\"anomalies\"])\n",
    "data[\"anomalies\"] = len(data) - data[\"anomalies\"]\n",
    "data[\"anomalies\"]"
   ]
  },
  {
   "cell_type": "code",
   "execution_count": 124,
   "metadata": {},
   "outputs": [
    {
     "data": {
      "text/plain": [
       "<matplotlib.axes._subplots.AxesSubplot at 0x1ca57841308>"
      ]
     },
     "execution_count": 124,
     "metadata": {},
     "output_type": "execute_result"
    },
    {
     "data": {
      "image/png": "[encoded data removed]",
      "text/plain": [
       "<Figure size 432x288 with 1 Axes>"
      ]
     },
     "metadata": {
      "needs_background": "light"
     },
     "output_type": "display_data"
    }
   ],
   "source": [
    "#reference: https://towardsdatascience.com/isolation-forest-with-statistical-rules-4dd27dad2da9\n",
    "#clf.fit(df[['value']])\n",
    "#df['scores']=clf.decision_function(df[['value']])\n",
    "plot = data['anomalies'].hist()\n",
    "plot"
   ]
  }
 ],
 "metadata": {
  "kernelspec": {
   "display_name": "Python 3",
   "language": "python",
   "name": "python3"
  },
  "language_info": {
   "codemirror_mode": {
    "name": "ipython",
    "version": 3
   },
   "file_extension": ".py",
   "mimetype": "text/x-python",
   "name": "python",
   "nbconvert_exporter": "python",
   "pygments_lexer": "ipython3",
   "version": "3.7.4"
  }
 },
 "nbformat": 4,
 "nbformat_minor": 2
}
